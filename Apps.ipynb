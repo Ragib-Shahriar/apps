{
  "nbformat": 4,
  "nbformat_minor": 0,
  "metadata": {
    "colab": {
      "name": "Apps.ipynb",
      "provenance": [],
      "toc_visible": true,
      "collapsed_sections": [],
      "authorship_tag": "ABX9TyO4SG8i4W43+Hk9eG8zF54+",
      "include_colab_link": true
    },
    "kernelspec": {
      "name": "python3",
      "display_name": "Python 3"
    },
    "language_info": {
      "name": "python"
    }
  },
  "cells": [
    {
      "cell_type": "markdown",
      "metadata": {
        "id": "view-in-github",
        "colab_type": "text"
      },
      "source": [
        "<a href=\"https://colab.research.google.com/github/Ragib-Shahriar/apps/blob/main/Apps.ipynb\" target=\"_parent\"><img src=\"https://colab.research.google.com/assets/colab-badge.svg\" alt=\"Open In Colab\"/></a>"
      ]
    },
    {
      "cell_type": "markdown",
      "source": [
        "# Secrets"
      ],
      "metadata": {
        "id": "MNLDurniVLDI"
      }
    },
    {
      "cell_type": "code",
      "source": [
        "api_key = ''"
      ],
      "metadata": {
        "id": "dy4Ee4agVGBC"
      },
      "execution_count": null,
      "outputs": []
    },
    {
      "cell_type": "markdown",
      "source": [
        "# IMDB API: Search Movies And Series"
      ],
      "metadata": {
        "id": "UK1IT_TszGfa"
      }
    },
    {
      "cell_type": "code",
      "source": [
        "#@title MOVIE INFO\n",
        "# IMPORTS\n",
        "import json\n",
        "import requests\n",
        "from datetime import datetime\n",
        "\n",
        "# search_query = 'Adaptation 2002'\n",
        "search_query = \"darkman\" #@param {type:\"string\"}\n",
        "\n",
        "# SEARCHING QUERY\n",
        "search_url = f'https://imdb-api.com/en/API/SearchMovie/{api_key}/{search_query}'\n",
        "result = requests.get(search_url)\n",
        "# result.content\n",
        "search = json.loads(result.content)\n",
        "id = search['results'][0]['id']\n",
        "# print(search['results'][0]['id'])\n",
        "# search\n",
        "\n",
        "# SEARCHING MOVIE WITH ID\n",
        "movie_url = f'https://imdb-api.com/en/API/Title/{api_key}/{id}'\n",
        "result = requests.get(movie_url)\n",
        "movie = json.loads(result.content)\n",
        "# movie\n",
        "\n",
        "# DISPLAYING\n",
        "format_data = \"%d-%b-%y\"\n",
        "now = datetime.now()\n",
        "date = now.strftime(format_data)\n",
        "lang = movie['languages'].split(',')[0]\n",
        "if lang=='English':\n",
        "  lang = ''\n",
        "info = f\"{movie['title']}\\t{movie['year']}\\t{date}\\t{movie['imDbRating']}\\t\\t{movie['genres']}\\t{lang}\"\n",
        "print(info)"
      ],
      "metadata": {
        "colab": {
          "base_uri": "https://localhost:8080/"
        },
        "id": "e8QRxXlEzk1R",
        "outputId": "78906e7f-26c4-42b2-e1b5-a8aee9d2a1ad"
      },
      "execution_count": 2,
      "outputs": [
        {
          "output_type": "stream",
          "name": "stdout",
          "text": [
            "Darkman\t1990\t17-Jun-22\t6.4\t\tAction, Sci-Fi, Thriller\t\n"
          ]
        }
      ]
    },
    {
      "cell_type": "code",
      "source": [
        "import json\n",
        "import requests\n",
        "from datetime import datetime\n",
        "#@title SERIES INFO\n",
        "# IMPORTS\n",
        "import json\n",
        "import requests\n",
        "from datetime import datetime\n",
        "\n",
        "# search_query = 'lost'\n",
        "search_query = \"the boys diabolical\" #@param {type:\"string\"}\n",
        "season_no = \"1\" #@param {type:\"string\"}\n",
        "\n",
        "# search_query = 'lost 2004'\n",
        "# SEARCHING QUERY\n",
        "search_url = f'https://imdb-api.com/en/API/SearchSeries/{api_key}/{search_query}'\n",
        "result = requests.get(search_url)\n",
        "# result.content\n",
        "search = json.loads(result.content)\n",
        "id = search['results'][0]['id']\n",
        "# print(search['results'][0]['id'])\n",
        "# search\n",
        "\n",
        "# SEARCHING SERIES WITH ID\n",
        "series_url = f'https://imdb-api.com/en/API/Title/{api_key}/{id}'\n",
        "result = requests.get(series_url)\n",
        "series = json.loads(result.content)\n",
        "series\n",
        "\n",
        "# SEARCHING EPISODES\n",
        "season_url = f'https://imdb-api.com/en/API/SeasonEpisodes/{api_key}/{id}/{season_no}'\n",
        "result = requests.get(season_url)\n",
        "# result.content\n",
        "season = json.loads(result.content)\n",
        "episodes = season['episodes']\n",
        "r = 0\n",
        "for i in range(len(episodes)):\n",
        "  r += float(episodes[i]['imDbRating'])\n",
        "\n",
        "rating = f\"{r/len(episodes):.2}\"\n",
        "year = episodes[0]['year']\n",
        "\n",
        "# DISPLAYING\n",
        "format_data = \"%d-%b-%y\"\n",
        "now = datetime.now()\n",
        "startdate = now.strftime(format_data)\n",
        "lang = series['languages'].split(',')[0]\n",
        "if lang=='English':\n",
        "  lang = ''\n",
        "info = f\"{series['title']}\\t{season_no}\\t{year}\\t{startdate}\\t\\t{rating}\\t\\t{series['genres']}\\t{lang}\"\n",
        "print(info)"
      ],
      "metadata": {
        "id": "iSqgZvDm7ZqU",
        "colab": {
          "base_uri": "https://localhost:8080/"
        },
        "outputId": "ff0edcba-86a2-4b29-f5ff-d378ff7a5620"
      },
      "execution_count": null,
      "outputs": [
        {
          "output_type": "stream",
          "name": "stdout",
          "text": [
            "The Boys Presents: Diabolical\t1\t2022\t17-Jun-22\t\t6.8\t\tAnimation, Short, Action\t\n"
          ]
        }
      ]
    },
    {
      "cell_type": "code",
      "source": [
        ""
      ],
      "metadata": {
        "id": "FMaRkKhC_-EQ"
      },
      "execution_count": null,
      "outputs": []
    }
  ]
}